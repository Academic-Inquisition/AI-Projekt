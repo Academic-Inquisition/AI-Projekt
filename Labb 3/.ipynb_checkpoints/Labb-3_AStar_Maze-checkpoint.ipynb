{
 "cells": [
  {
   "cell_type": "code",
   "execution_count": 1,
   "metadata": {},
   "outputs": [
    {
     "name": "stdout",
     "output_type": "stream",
     "text": [
      "Populating the interactive namespace from numpy and matplotlib\n"
     ]
    }
   ],
   "source": [
    "%pylab inline"
   ]
  },
  {
   "cell_type": "code",
   "execution_count": 2,
   "metadata": {},
   "outputs": [],
   "source": [
    "import numpy\n",
    "from numpy import transpose\n",
    "from numpy.random import shuffle\n",
    "import matplotlib.pyplot as plt\n",
    "from queue import PriorityQueue\n",
    "from dataclasses import dataclass, field\n",
    "from typing import Any"
   ]
  },
  {
   "cell_type": "code",
   "execution_count": 1,
   "metadata": {},
   "outputs": [
    {
     "ename": "NameError",
     "evalue": "name 'plt' is not defined",
     "output_type": "error",
     "traceback": [
      "\u001b[1;31m---------------------------------------------------------------------------\u001b[0m",
      "\u001b[1;31mNameError\u001b[0m                                 Traceback (most recent call last)",
      "\u001b[1;32m~\\AppData\\Local\\Temp\\ipykernel_26484\\256611569.py\u001b[0m in \u001b[0;36m<module>\u001b[1;34m\u001b[0m\n\u001b[0;32m     33\u001b[0m     \u001b[1;32mreturn\u001b[0m \u001b[0mmaze\u001b[0m\u001b[1;33m\u001b[0m\u001b[1;33m\u001b[0m\u001b[0m\n\u001b[0;32m     34\u001b[0m \u001b[1;33m\u001b[0m\u001b[0m\n\u001b[1;32m---> 35\u001b[1;33m \u001b[0mplt\u001b[0m\u001b[1;33m.\u001b[0m\u001b[0mfigure\u001b[0m\u001b[1;33m(\u001b[0m\u001b[0mfigsize\u001b[0m\u001b[1;33m=\u001b[0m\u001b[1;33m(\u001b[0m\u001b[1;36m24\u001b[0m\u001b[1;33m,\u001b[0m\u001b[1;36m24\u001b[0m\u001b[1;33m)\u001b[0m\u001b[1;33m)\u001b[0m\u001b[1;33m\u001b[0m\u001b[1;33m\u001b[0m\u001b[0m\n\u001b[0m\u001b[0;32m     36\u001b[0m \u001b[0mmaze\u001b[0m\u001b[1;33m=\u001b[0m\u001b[0mnumpy\u001b[0m\u001b[1;33m.\u001b[0m\u001b[0marray\u001b[0m\u001b[1;33m(\u001b[0m\u001b[0mmake_maze\u001b[0m\u001b[1;33m(\u001b[0m\u001b[1;36m128\u001b[0m\u001b[1;33m,\u001b[0m\u001b[1;36m128\u001b[0m\u001b[1;33m)\u001b[0m\u001b[1;33m)\u001b[0m\u001b[1;33m\u001b[0m\u001b[1;33m\u001b[0m\u001b[0m\n\u001b[0;32m     37\u001b[0m \u001b[0mplt\u001b[0m\u001b[1;33m.\u001b[0m\u001b[0mimshow\u001b[0m\u001b[1;33m(\u001b[0m\u001b[0mmaze\u001b[0m\u001b[1;33m)\u001b[0m\u001b[1;33m\u001b[0m\u001b[1;33m\u001b[0m\u001b[0m\n",
      "\u001b[1;31mNameError\u001b[0m: name 'plt' is not defined"
     ]
    }
   ],
   "source": [
    "def make_maze(width, height):\n",
    "    vis = [[0] * width + [1] for _ in range(height)] + [[1] * (width + 1)]\n",
    "    ver = [[\"10\"] * width + ['1'] for _ in range(height)] + [[]]\n",
    "    hor = [[\"11\"] * width + ['1'] for _ in range(height + 1)]\n",
    "\n",
    "    def walk(step_x, step_y):\n",
    "        vis[step_y][step_x] = 1\n",
    "\n",
    "        d = [(step_x - 1, step_y),\n",
    "             (step_x, step_y + 1),\n",
    "             (step_x + 1, step_y),\n",
    "             (step_x, step_y - 1)]\n",
    "        shuffle(d)\n",
    "        for (x, y) in d:\n",
    "            if vis[y][x]: continue\n",
    "            if x == step_x: hor[max(step_y, y)][x] = \"10\"\n",
    "            if y == step_y: ver[y][max(step_x, x)] = \"00\"\n",
    "            walk(x, y)\n",
    "\n",
    "    walk(numpy.random.randint(width), numpy.random.randint(height))\n",
    "\n",
    "    s = \"\"\n",
    "    for (a, b) in zip(hor, ver):\n",
    "        s += ''.join(a + ['\\n'] + b + ['\\n'])\n",
    "\n",
    "    maze=[]\n",
    "    for line in s.split(\"\\n\"):\n",
    "        if line != \"\":\n",
    "            row=[]\n",
    "            for instance in line:\n",
    "                row.append(int(instance))\n",
    "            maze.append(row)\n",
    "    return maze\n",
    "\n",
    "plt.figure(figsize=(24,24))\n",
    "maze=numpy.array(make_maze(128,128))\n",
    "plt.imshow(maze)\n",
    "print(maze.shape)"
   ]
  },
  {
   "cell_type": "code",
   "execution_count": null,
   "metadata": {},
   "outputs": [],
   "source": [
    "m=numpy.ones((17,17))\n",
    "for i in range(8):\n",
    "    for j in range(8):\n",
    "        m[1+(i*2)][1+(j*2)]=0\n",
    "plt.imshow(m)\n",
    "print(m)"
   ]
  },
  {
   "cell_type": "code",
   "execution_count": null,
   "metadata": {},
   "outputs": [],
   "source": [
    "def get_valid_neighbours(x,y):\n",
    "    nb=list()\n",
    "    xm=[0,1,0,-1]\n",
    "    ym=[1,0,-1,0]\n",
    "    for o in range(4):\n",
    "        nb.append([x+xm[o],y+ym[o]])\n",
    "    return nb\n",
    "\n",
    "# Returns a list of neighbours in the order of N,E,S,W\n",
    "def get_valid_neighbours(maze, location):\n",
    "    nb=list()\n",
    "    xm=[0,1,0,-1]\n",
    "    ym=[1,0,-1,0]\n",
    "    for o in range(4):\n",
    "        if maze[location[0]+xm[o]][location[1]+ym[o]] == 0:\n",
    "            nb.append([location[0]+xm[o],location[1]+ym[o]])\n",
    "    return nb\n"
   ]
  },
  {
   "cell_type": "code",
   "execution_count": null,
   "metadata": {},
   "outputs": [],
   "source": [
    "startLocation=[1,1]\n",
    "targetLocation=[254,254]\n",
    "distances = numpy.zeros(maze.shape) - 1\n",
    "frontier = [startLocation]\n",
    "distances[startLocation[0]][startLocation[1]] = 0\n",
    "currentDistance = 1"
   ]
  },
  {
   "cell_type": "code",
   "execution_count": null,
   "metadata": {},
   "outputs": [],
   "source": [
    "while len(frontier) > 0:\n",
    "    newFrontier = list()\n",
    "    for curr in frontier:\n",
    "        neighbours = get_valid_neighbours(maze, curr)\n",
    "        for neighbour in neighbours:\n",
    "            if maze[neighbour[0]][neighbour[1]] == 0 and distances[neighbour[0]][neighbour[1]] < 0.0:\n",
    "                distances[neighbour[0]][neighbour[1]] = currentDistance\n",
    "                newFrontier.append(neighbour)\n",
    "    frontier = newFrontier\n",
    "    currentDistance += 1\n",
    "\n",
    "plt.figure(figsize=[64,32])\n",
    "plt.subplot(1,2,1)\n",
    "plt.imshow(maze)\n",
    "plt.figure(figsize=[64,32])\n",
    "plt.subplot(1,2,2)\n",
    "plt.imshow(distances, cmap='Spectral')"
   ]
  },
  {
   "cell_type": "code",
   "execution_count": null,
   "metadata": {},
   "outputs": [],
   "source": [
    "@dataclass(order = True)\n",
    "class PrioritizedItem:\n",
    "    priority: int\n",
    "    item: Any=field(compare = False)\n",
    "\n",
    "    def get_item(self):\n",
    "        return self.item\n",
    "\n",
    "def heuristic(startNode, endNode):\n",
    "    x1, y1 = startNode\n",
    "    x2, y2 = endNode\n",
    "    return abs(x1 - x2) + abs(y1 - y2)\n",
    "\n",
    "def AS(maze, startNode, endNode):\n",
    "    front = PriorityQueue()                                                     # Sets up the 'front' (frontier) PriorityQueue().\n",
    "    front.put(PrioritizedItem(heuristic(startNode, endNode), startNode))        # Adds the starting position into the frontier.\n",
    "    explored = list()                                                           # Sets up the 'explored' List for storing visited nodes.\n",
    "    while front.qsize() != 0:                                                   # If the frontier isnt empty then loop.\n",
    "        cc = front.get()                                                        # Pop the lowest-value (highest priority) Item from the Queue.\n",
    "        if cc.get_item() in explored:                                           # If the 'item' (Coords-Array) in the PrioritizedItem is in the 'explored' list.\n",
    "            continue                                                            #   - Then skip this loop, this avoids a deadlock due to rolling between the same cells.\n",
    "        if cc.get_item() == endNode:                                            # If the 'item' (Coords-Array) in the PrioritizedItem is the end-node.\n",
    "            return \"Successful!\", explored + [endNode]                          #   - Then print that it was successfully found along side the explored array and the endNode.\n",
    "        for nb in get_valid_neighbours(maze, cc.get_item()):                    # Loop ForEach valid neighbour (Valid is if the array value is 0).\n",
    "            if maze[nb[0]][nb[1]] == 0:                                         # Double-Check that the neighbour Coordinates are in-fact of integer value 0.\n",
    "                front.put(PrioritizedItem(heuristic(neighbour, endNode), nb))   # If it is then add the neighbour to the frontier.\n",
    "        explored.append(cc.get_item())                                          # Then append the coordinates of this cell to the 'explored' list.\n",
    "    return \"Failure!\", explored                                                 # Error if failed."
   ]
  },
  {
   "cell_type": "code",
   "execution_count": null,
   "metadata": {},
   "outputs": [],
   "source": [
    "fig, (ax1, ax2) = plt.subplots(1, 2, figsize=(24,24))\n",
    "\n",
    "fig.suptitle('Diagram of Explored Vs. Optimal path')\n",
    "\n",
    "print('Starting Location: ', startLocation)\n",
    "print('Target Location: ', targetLocation)\n",
    "print('--------------------------------------')\n",
    "answer, explored = AS(maze, startLocation, targetLocation)\n",
    "print('Answer: ', answer)\n",
    "print('Explored: ', explored)\n",
    "#ax1.title = 'Explored'\n",
    "ax1.imshow(maze)\n",
    "ax1.plot(transpose(explored)[1], transpose(explored)[0], 'ow')\n",
    "print('--------------------------------------')\n",
    "\n",
    "currentLocation = targetLocation\n",
    "path=[]\n",
    "while currentLocation != startLocation:\n",
    "    path.append(currentLocation)\n",
    "    neighbours = get_valid_neighbours(maze, currentLocation)\n",
    "    indices = []\n",
    "    for nb in neighbours:\n",
    "        if nb in explored:\n",
    "            indices.append(explored.index(nb))\n",
    "    currentLocation = explored[min(indices)]\n",
    "path.append(startLocation)\n",
    "print('Optimal Path: ', path)\n",
    "ax2.imshow(maze)\n",
    "ax2.plot(transpose(path)[1], transpose(path)[0], 'ow')"
   ]
  },
  {
   "cell_type": "code",
   "execution_count": null,
   "metadata": {},
   "outputs": [],
   "source": []
  }
 ],
 "metadata": {
  "kernelspec": {
   "display_name": "Python 3 (ipykernel)",
   "language": "python",
   "name": "python3"
  },
  "language_info": {
   "codemirror_mode": {
    "name": "ipython",
    "version": 3
   },
   "file_extension": ".py",
   "mimetype": "text/x-python",
   "name": "python",
   "nbconvert_exporter": "python",
   "pygments_lexer": "ipython3",
   "version": "3.9.13"
  }
 },
 "nbformat": 4,
 "nbformat_minor": 1
}
