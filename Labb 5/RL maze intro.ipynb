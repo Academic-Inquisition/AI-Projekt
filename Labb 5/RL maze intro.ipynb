{
 "cells": [
  {
   "cell_type": "code",
   "execution_count": 1,
   "id": "e0b08f13",
   "metadata": {},
   "outputs": [
    {
     "name": "stdout",
     "output_type": "stream",
     "text": [
      "%pylab is deprecated, use %matplotlib inline and import the required libraries.\n",
      "Populating the interactive namespace from numpy and matplotlib\n"
     ]
    }
   ],
   "source": [
    "%pylab inline"
   ]
  },
  {
   "cell_type": "code",
   "execution_count": 2,
   "id": "48296446",
   "metadata": {},
   "outputs": [],
   "source": [
    "from pandas import *"
   ]
  },
  {
   "cell_type": "code",
   "execution_count": 3,
   "id": "aaf814a7",
   "metadata": {},
   "outputs": [
    {
     "name": "stdout",
     "output_type": "stream",
     "text": [
      "(17, 17)\n"
     ]
    },
    {
     "data": {
      "image/png": "[encoded data removed]",
      "text/plain": [
       "<Figure size 640x480 with 1 Axes>"
      ]
     },
     "metadata": {},
     "output_type": "display_data"
    }
   ],
   "source": [
    "def make_maze(w = 16, h = 8):\n",
    "    vis = [[0] * w + [1] for _ in range(h)] + [[1] * (w + 1)]\n",
    "    ver = [[\"10\"] * w + ['1'] for _ in range(h)] + [[]]\n",
    "    hor = [[\"11\"] * w + ['1'] for _ in range(h + 1)]\n",
    " \n",
    "    def walk(x, y):\n",
    "        vis[y][x] = 1\n",
    " \n",
    "        d = [(x - 1, y), (x, y + 1), (x + 1, y), (x, y - 1)]\n",
    "        shuffle(d)\n",
    "        for (xx, yy) in d:\n",
    "            if vis[yy][xx]: continue\n",
    "            if xx == x: hor[max(y, yy)][x] = \"10\"\n",
    "            if yy == y: ver[y][max(x, xx)] = \"00\"\n",
    "            walk(xx, yy)\n",
    " \n",
    "    walk(numpy.random.randint(w), numpy.random.randint(h))\n",
    " \n",
    "    s = \"\"\n",
    "    for (a, b) in zip(hor, ver):\n",
    "        s += ''.join(a + ['\\n'] + b + ['\\n'])\n",
    "        \n",
    "    M=[]\n",
    "    for line in s.split(\"\\n\"):\n",
    "        if line!=\"\":\n",
    "            R=[]\n",
    "            for e in line:\n",
    "                R.append(int(e))\n",
    "            M.append(R)\n",
    "    return M\n",
    " \n",
    "maze=numpy.array(make_maze(8,8))\n",
    "imshow(maze)\n",
    "#ylim(-0.5,16.5)\n",
    "print(maze.shape)"
   ]
  },
  {
   "cell_type": "code",
   "execution_count": 4,
   "id": "b4eca811",
   "metadata": {},
   "outputs": [
    {
     "name": "stdout",
     "output_type": "stream",
     "text": [
      "[[1 1 1 1 1 1 1 1 1 1 1 1 1 1 1 1 1]\n",
      " [1 0 0 0 0 0 0 0 1 0 0 0 0 0 0 0 1]\n",
      " [1 0 1 1 1 1 1 1 1 0 1 0 1 1 1 0 1]\n",
      " [1 0 0 0 0 0 0 0 1 0 1 0 0 0 1 0 1]\n",
      " [1 0 1 1 1 1 1 0 1 0 1 1 1 0 1 0 1]\n",
      " [1 0 0 0 0 0 1 0 0 0 1 0 0 0 1 0 1]\n",
      " [1 0 1 1 1 1 1 1 1 0 1 0 1 1 1 0 1]\n",
      " [1 0 1 0 0 0 0 0 1 0 1 0 1 0 0 0 1]\n",
      " [1 1 1 0 1 1 1 0 1 0 1 0 1 0 1 1 1]\n",
      " [1 0 0 0 1 0 0 0 1 0 1 0 1 0 0 0 1]\n",
      " [1 0 1 1 1 0 1 1 1 1 1 0 1 1 1 0 1]\n",
      " [1 0 1 0 0 0 0 0 0 0 1 0 1 0 1 0 1]\n",
      " [1 0 1 1 1 0 1 1 1 0 1 0 1 0 1 0 1]\n",
      " [1 0 0 0 1 0 1 0 1 0 0 0 1 0 0 0 1]\n",
      " [1 0 1 0 1 1 1 0 1 1 1 1 1 0 1 1 1]\n",
      " [1 0 1 0 0 0 0 0 1 0 0 0 0 0 0 0 1]\n",
      " [1 1 1 1 1 1 1 1 1 1 1 1 1 1 1 1 1]]\n"
     ]
    }
   ],
   "source": [
    "print(maze)"
   ]
  },
  {
   "cell_type": "code",
   "execution_count": 40,
   "id": "6a91727f",
   "metadata": {
    "scrolled": true
   },
   "outputs": [
    {
     "name": "stdout",
     "output_type": "stream",
     "text": [
      "[0.22 0.26 0.26 0.26]\n",
      "71523.0 71523\n"
     ]
    },
    {
     "data": {
      "image/png": "[encoded data removed]",
      "text/plain": [
       "<Figure size 640x480 with 2 Axes>"
      ]
     },
     "metadata": {},
     "output_type": "display_data"
    }
   ],
   "source": [
    "visited=numpy.zeros((17,17))\n",
    "policy=numpy.array([0.22,0.26,0.26,0.26])\n",
    "print(policy)\n",
    "x=1\n",
    "y=1\n",
    "xm=[0,1,0,-1]\n",
    "ym=[1,0,-1,0]\n",
    "trackX=[x]\n",
    "trackY=[y]\n",
    "visited[x][y]=1\n",
    "while x!=15 or y!=15:\n",
    "    direction=numpy.random.choice([0,1,2,3],p=policy)\n",
    "    tx=x+xm[direction]\n",
    "    ty=y+ym[direction]\n",
    "    if maze[tx][ty]==0:\n",
    "        x=tx\n",
    "        y=ty\n",
    "        visited[x][y]+=1\n",
    "        trackX.append(x)\n",
    "        trackY.append(y)\n",
    "        \n",
    "subplot(1,2,1)\n",
    "imshow(maze,cmap='gray')\n",
    "subplot(1,2,2)\n",
    "imshow(visited,cmap='gray',vmax=1)\n",
    "print(visited.sum(),len(trackX))"
   ]
  },
  {
   "cell_type": "code",
   "execution_count": 47,
   "id": "240ccf59",
   "metadata": {},
   "outputs": [
    {
     "name": "stdout",
     "output_type": "stream",
     "text": [
      "(17, 17, 4)\n",
      "[0.25 0.25 0.25 0.25]\n",
      "[0.25 0.25 0.25 0.25]\n",
      "[0. 0. 1. 0.]\n",
      "[0.25 0.25 0.25 0.25]\n"
     ]
    }
   ],
   "source": [
    "policy=numpy.ones((17,17,4))/4.0\n",
    "print(policy.shape)\n",
    "print(policy[1][1])\n",
    "print(policy[1][3])\n",
    "policy[1][1]=numpy.array([0.0,0.0,1.0,0.0])\n",
    "policy[1][3]=numpy.array([0.0,1.0,0.0,0.0])\n",
    "print(policy[1][1])\n",
    "print(policy[1][3])\n"
   ]
  },
  {
   "cell_type": "code",
   "execution_count": 70,
   "id": "af887254",
   "metadata": {},
   "outputs": [
    {
     "name": "stdout",
     "output_type": "stream",
     "text": [
      "24281.0 24281\n"
     ]
    },
    {
     "data": {
      "image/png": "[encoded data removed]",
      "text/plain": [
       "<Figure size 640x480 with 2 Axes>"
      ]
     },
     "metadata": {},
     "output_type": "display_data"
    }
   ],
   "source": [
    "visited=numpy.zeros((17,17))\n",
    "policy=numpy.ones((17,17,4))/4.0\n",
    "learningRate=0.01\n",
    "x=1\n",
    "y=1\n",
    "xm=[0,1,0,-1]\n",
    "ym=[1,0,-1,0]\n",
    "trackX=[x]\n",
    "trackY=[y]\n",
    "actions=[]\n",
    "visited[x][y]=1\n",
    "while x!=15 or y!=15:\n",
    "    direction=numpy.random.choice([0,1,2,3],p=policy[x][y])\n",
    "    tx=x+xm[direction]\n",
    "    ty=y+ym[direction]\n",
    "    if maze[tx][ty]==0:\n",
    "        x=tx\n",
    "        y=ty\n",
    "        visited[x][y]+=1\n",
    "        trackX.append(x)\n",
    "        trackY.append(y)\n",
    "        actions.append(direction)\n",
    "        \n",
    "for i in range(len(actions)):\n",
    "    policy[trackX[i]][trackY[i]][actions[i]] += learningRate\n",
    "for i in range(17):\n",
    "    for j in range(17):\n",
    "        policy[i][j]/=policy[i][j].sum()\n",
    "        \n",
    "subplot(1,2,1)\n",
    "imshow(maze,cmap='gray')\n",
    "subplot(1,2,2)\n",
    "imshow(visited,cmap='gray')\n",
    "print(visited.sum(),len(trackX))"
   ]
  },
  {
   "cell_type": "code",
   "execution_count": 77,
   "id": "304f3b31",
   "metadata": {
    "scrolled": false
   },
   "outputs": [
    {
     "ename": "KeyboardInterrupt",
     "evalue": "",
     "output_type": "error",
     "traceback": [
      "\u001B[0;31m---------------------------------------------------------------------------\u001B[0m",
      "\u001B[0;31mKeyboardInterrupt\u001B[0m                         Traceback (most recent call last)",
      "Input \u001B[0;32mIn [77]\u001B[0m, in \u001B[0;36m<cell line: 10>\u001B[0;34m()\u001B[0m\n\u001B[1;32m     19\u001B[0m visited[x][y]\u001B[38;5;241m=\u001B[39m\u001B[38;5;241m1\u001B[39m\n\u001B[1;32m     20\u001B[0m \u001B[38;5;28;01mwhile\u001B[39;00m x\u001B[38;5;241m!=\u001B[39m\u001B[38;5;241m15\u001B[39m \u001B[38;5;129;01mor\u001B[39;00m y\u001B[38;5;241m!=\u001B[39m\u001B[38;5;241m15\u001B[39m:\n\u001B[0;32m---> 21\u001B[0m     direction\u001B[38;5;241m=\u001B[39m\u001B[43mnumpy\u001B[49m\u001B[38;5;241;43m.\u001B[39;49m\u001B[43mrandom\u001B[49m\u001B[38;5;241;43m.\u001B[39;49m\u001B[43mchoice\u001B[49m\u001B[43m(\u001B[49m\u001B[43m[\u001B[49m\u001B[38;5;241;43m0\u001B[39;49m\u001B[43m,\u001B[49m\u001B[38;5;241;43m1\u001B[39;49m\u001B[43m,\u001B[49m\u001B[38;5;241;43m2\u001B[39;49m\u001B[43m,\u001B[49m\u001B[38;5;241;43m3\u001B[39;49m\u001B[43m]\u001B[49m\u001B[43m,\u001B[49m\u001B[43mp\u001B[49m\u001B[38;5;241;43m=\u001B[39;49m\u001B[43mpolicy\u001B[49m\u001B[43m[\u001B[49m\u001B[43mx\u001B[49m\u001B[43m]\u001B[49m\u001B[43m[\u001B[49m\u001B[43my\u001B[49m\u001B[43m]\u001B[49m\u001B[43m)\u001B[49m\n\u001B[1;32m     22\u001B[0m     tx\u001B[38;5;241m=\u001B[39mx\u001B[38;5;241m+\u001B[39mxm[direction]\n\u001B[1;32m     23\u001B[0m     ty\u001B[38;5;241m=\u001B[39my\u001B[38;5;241m+\u001B[39mym[direction]\n",
      "\u001B[0;31mKeyboardInterrupt\u001B[0m: "
     ]
    }
   ],
   "source": [
    "policy=numpy.ones((17,17,4))/4.0\n",
    "policy=numpy.random.random((17,17,4))\n",
    "for i in range(17):\n",
    "    for j in range(17):\n",
    "        policy[i][j]/=policy[i][j].sum()\n",
    "\n",
    "learningRate=0.01\n",
    "\n",
    "L=[]\n",
    "for i in range(200):\n",
    "    visited=numpy.zeros((17,17))\n",
    "    x=1\n",
    "    y=1\n",
    "    xm=[0,1,0,-1]\n",
    "    ym=[1,0,-1,0]\n",
    "    trackX=[x]\n",
    "    trackY=[y]\n",
    "    actions=[]\n",
    "    visited[x][y]=1\n",
    "    while x!=15 or y!=15:\n",
    "        direction=numpy.random.choice([0,1,2,3],p=policy[x][y])\n",
    "        tx=x+xm[direction]\n",
    "        ty=y+ym[direction]\n",
    "        if maze[tx][ty]==0:\n",
    "            x=tx\n",
    "            y=ty\n",
    "            visited[x][y]+=1\n",
    "            trackX.append(x)\n",
    "            trackY.append(y)\n",
    "            actions.append(direction)\n",
    "\n",
    "    for i in range(len(actions)):\n",
    "        policy[trackX[i]][trackY[i]][actions[i]]+=learningRate\n",
    "    for i in range(17):\n",
    "        for j in range(17):\n",
    "            policy[i][j]/=policy[i][j].sum()\n",
    "    L.append(len(actions))\n",
    "    \n",
    "plot(L)\n"
   ]
  },
  {
   "cell_type": "code",
   "execution_count": 74,
   "id": "d362471f",
   "metadata": {},
   "outputs": [
    {
     "name": "stdout",
     "output_type": "stream",
     "text": [
      "138\n"
     ]
    },
    {
     "data": {
      "image/png": "[encoded data removed]",
      "text/plain": [
       "<Figure size 640x480 with 1 Axes>"
      ]
     },
     "metadata": {},
     "output_type": "display_data"
    }
   ],
   "source": [
    "imshow(visited)\n",
    "print(len(actions))"
   ]
  },
  {
   "cell_type": "code",
   "execution_count": 75,
   "id": "7f8c0f33",
   "metadata": {},
   "outputs": [
    {
     "data": {
      "text/plain": [
       "<matplotlib.image.AxesImage at 0x1689c8760>"
      ]
     },
     "execution_count": 75,
     "metadata": {},
     "output_type": "execute_result"
    },
    {
     "data": {
      "image/png": "[encoded data removed]",
      "text/plain": [
       "<Figure size 640x480 with 1 Axes>"
      ]
     },
     "metadata": {},
     "output_type": "display_data"
    }
   ],
   "source": [
    "imshow(policy)"
   ]
  },
  {
   "cell_type": "code",
   "execution_count": null,
   "id": "c66bd57c",
   "metadata": {},
   "outputs": [],
   "source": []
  }
 ],
 "metadata": {
  "kernelspec": {
   "display_name": "Python 3 (ipykernel)",
   "language": "python",
   "name": "python3"
  },
  "language_info": {
   "codemirror_mode": {
    "name": "ipython",
    "version": 3
   },
   "file_extension": ".py",
   "mimetype": "text/x-python",
   "name": "python",
   "nbconvert_exporter": "python",
   "pygments_lexer": "ipython3",
   "version": "3.8.13"
  }
 },
 "nbformat": 4,
 "nbformat_minor": 5
}
